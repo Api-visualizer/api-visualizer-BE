{
 "cells": [
  {
   "cell_type": "code",
   "execution_count": 67,
   "metadata": {},
   "outputs": [],
   "source": [
    "import pandas as pd\n",
    "import json\n",
    "import urllib3\n",
    "import pycouchdb"
   ]
  },
  {
   "cell_type": "code",
   "execution_count": 68,
   "metadata": {},
   "outputs": [
    {
     "data": {
      "text/html": [
       "<div>\n",
       "<style scoped>\n",
       "    .dataframe tbody tr th:only-of-type {\n",
       "        vertical-align: middle;\n",
       "    }\n",
       "\n",
       "    .dataframe tbody tr th {\n",
       "        vertical-align: top;\n",
       "    }\n",
       "\n",
       "    .dataframe thead th {\n",
       "        text-align: right;\n",
       "    }\n",
       "</style>\n",
       "<table border=\"1\" class=\"dataframe\">\n",
       "  <thead>\n",
       "    <tr style=\"text-align: right;\">\n",
       "      <th></th>\n",
       "      <th>age</th>\n",
       "      <th>female</th>\n",
       "      <th>male</th>\n",
       "      <th>total</th>\n",
       "      <th>female_100k</th>\n",
       "      <th>male_100k</th>\n",
       "      <th>total_100k</th>\n",
       "      <th>year</th>\n",
       "    </tr>\n",
       "  </thead>\n",
       "  <tbody>\n",
       "    <tr>\n",
       "      <th>0</th>\n",
       "      <td>0</td>\n",
       "      <td>20</td>\n",
       "      <td>17</td>\n",
       "      <td>37</td>\n",
       "      <td>102.280863</td>\n",
       "      <td>82.280625</td>\n",
       "      <td>92.005471</td>\n",
       "      <td>2017</td>\n",
       "    </tr>\n",
       "    <tr>\n",
       "      <th>1</th>\n",
       "      <td>1 -   4</td>\n",
       "      <td>172</td>\n",
       "      <td>213</td>\n",
       "      <td>385</td>\n",
       "      <td>237.966768</td>\n",
       "      <td>279.278334</td>\n",
       "      <td>259.180720</td>\n",
       "      <td>2017</td>\n",
       "    </tr>\n",
       "    <tr>\n",
       "      <th>2</th>\n",
       "      <td>5 -   9</td>\n",
       "      <td>83</td>\n",
       "      <td>170</td>\n",
       "      <td>253</td>\n",
       "      <td>104.281837</td>\n",
       "      <td>201.665520</td>\n",
       "      <td>154.372777</td>\n",
       "      <td>2017</td>\n",
       "    </tr>\n",
       "    <tr>\n",
       "      <th>3</th>\n",
       "      <td>10 - 14</td>\n",
       "      <td>52</td>\n",
       "      <td>105</td>\n",
       "      <td>157</td>\n",
       "      <td>73.694056</td>\n",
       "      <td>140.750670</td>\n",
       "      <td>108.155027</td>\n",
       "      <td>2017</td>\n",
       "    </tr>\n",
       "    <tr>\n",
       "      <th>4</th>\n",
       "      <td>15 - 19</td>\n",
       "      <td>103</td>\n",
       "      <td>148</td>\n",
       "      <td>251</td>\n",
       "      <td>144.925497</td>\n",
       "      <td>193.874610</td>\n",
       "      <td>170.274542</td>\n",
       "      <td>2017</td>\n",
       "    </tr>\n",
       "    <tr>\n",
       "      <th>...</th>\n",
       "      <td>...</td>\n",
       "      <td>...</td>\n",
       "      <td>...</td>\n",
       "      <td>...</td>\n",
       "      <td>...</td>\n",
       "      <td>...</td>\n",
       "      <td>...</td>\n",
       "      <td>...</td>\n",
       "    </tr>\n",
       "    <tr>\n",
       "      <th>205</th>\n",
       "      <td>75 - 79</td>\n",
       "      <td>2688</td>\n",
       "      <td>2996</td>\n",
       "      <td>5684</td>\n",
       "      <td>4505.531344</td>\n",
       "      <td>7121.802795</td>\n",
       "      <td>5587.393958</td>\n",
       "      <td>2008</td>\n",
       "    </tr>\n",
       "    <tr>\n",
       "      <th>206</th>\n",
       "      <td>80 - 84</td>\n",
       "      <td>1876</td>\n",
       "      <td>1781</td>\n",
       "      <td>3657</td>\n",
       "      <td>3875.392497</td>\n",
       "      <td>7863.829036</td>\n",
       "      <td>5146.644900</td>\n",
       "      <td>2008</td>\n",
       "    </tr>\n",
       "    <tr>\n",
       "      <th>207</th>\n",
       "      <td>85 - 89</td>\n",
       "      <td>1175</td>\n",
       "      <td>698</td>\n",
       "      <td>1873</td>\n",
       "      <td>3550.707120</td>\n",
       "      <td>6881.593217</td>\n",
       "      <td>4332.138314</td>\n",
       "      <td>2008</td>\n",
       "    </tr>\n",
       "    <tr>\n",
       "      <th>208</th>\n",
       "      <td>90 - 94</td>\n",
       "      <td>370</td>\n",
       "      <td>131</td>\n",
       "      <td>501</td>\n",
       "      <td>3070.794257</td>\n",
       "      <td>4685.264664</td>\n",
       "      <td>3374.873695</td>\n",
       "      <td>2008</td>\n",
       "    </tr>\n",
       "    <tr>\n",
       "      <th>209</th>\n",
       "      <td>95 und älter</td>\n",
       "      <td>145</td>\n",
       "      <td>41</td>\n",
       "      <td>186</td>\n",
       "      <td>1993.127148</td>\n",
       "      <td>1646.586345</td>\n",
       "      <td>1904.956985</td>\n",
       "      <td>2008</td>\n",
       "    </tr>\n",
       "  </tbody>\n",
       "</table>\n",
       "<p>210 rows × 8 columns</p>\n",
       "</div>"
      ],
      "text/plain": [
       "              age  female  male  total  female_100k    male_100k   total_100k  \\\n",
       "0              0       20    17     37   102.280863    82.280625    92.005471   \n",
       "1         1 -   4     172   213    385   237.966768   279.278334   259.180720   \n",
       "2         5 -   9      83   170    253   104.281837   201.665520   154.372777   \n",
       "3         10 - 14      52   105    157    73.694056   140.750670   108.155027   \n",
       "4         15 - 19     103   148    251   144.925497   193.874610   170.274542   \n",
       "..            ...     ...   ...    ...          ...          ...          ...   \n",
       "205       75 - 79    2688  2996   5684  4505.531344  7121.802795  5587.393958   \n",
       "206       80 - 84    1876  1781   3657  3875.392497  7863.829036  5146.644900   \n",
       "207       85 - 89    1175   698   1873  3550.707120  6881.593217  4332.138314   \n",
       "208       90 - 94     370   131    501  3070.794257  4685.264664  3374.873695   \n",
       "209  95 und älter     145    41    186  1993.127148  1646.586345  1904.956985   \n",
       "\n",
       "     year  \n",
       "0    2017  \n",
       "1    2017  \n",
       "2    2017  \n",
       "3    2017  \n",
       "4    2017  \n",
       "..    ...  \n",
       "205  2008  \n",
       "206  2008  \n",
       "207  2008  \n",
       "208  2008  \n",
       "209  2008  \n",
       "\n",
       "[210 rows x 8 columns]"
      ]
     },
     "execution_count": 68,
     "metadata": {},
     "output_type": "execute_result"
    }
   ],
   "source": [
    "df = pd.read_excel(\"./findings.xls\")\n",
    "df"
   ]
  },
  {
   "cell_type": "code",
   "execution_count": 69,
   "metadata": {},
   "outputs": [
    {
     "data": {
      "text/plain": [
       "array([2017, 2016, 2015, 2014, 2013, 2012, 2011, 2010, 2009, 2008])"
      ]
     },
     "execution_count": 69,
     "metadata": {},
     "output_type": "execute_result"
    }
   ],
   "source": [
    "df.year.unique()"
   ]
  },
  {
   "cell_type": "code",
   "execution_count": 72,
   "metadata": {},
   "outputs": [],
   "source": [
    "# Connect to couchdb\n",
    "urllib3.disable_warnings()\n",
    "\n",
    "url = \"\"\n",
    "server = pycouchdb.Server(url)\n",
    "db = server.database(\"berlin_cancer\")"
   ]
  },
  {
   "cell_type": "code",
   "execution_count": 73,
   "metadata": {},
   "outputs": [
    {
     "data": {
      "text/plain": [
       "'3.1.1'"
      ]
     },
     "execution_count": 73,
     "metadata": {},
     "output_type": "execute_result"
    }
   ],
   "source": [
    "server.info()[\"version\"]"
   ]
  },
  {
   "cell_type": "code",
   "execution_count": 87,
   "metadata": {},
   "outputs": [],
   "source": [
    "for year in df.year.unique():\n",
    "    by_year = df[df.year == year]\n",
    "    yearly_data = json.loads(by_year.to_json(orient=\"records\"))\n",
    "    \n",
    "    # Remove year attribute    \n",
    "    for agegroup in yearly_data:\n",
    "        if agegroup[\"year\"]:\n",
    "            del agegroup[\"year\"]\n",
    "            \n",
    "    dic = {str(year): yearly_data}        \n",
    "    db.save(dic)"
   ]
  },
  {
   "cell_type": "code",
   "execution_count": null,
   "metadata": {},
   "outputs": [],
   "source": []
  }
 ],
 "metadata": {
  "kernelspec": {
   "display_name": "Python 3",
   "language": "python",
   "name": "python3"
  },
  "language_info": {
   "codemirror_mode": {
    "name": "ipython",
    "version": 3
   },
   "file_extension": ".py",
   "mimetype": "text/x-python",
   "name": "python",
   "nbconvert_exporter": "python",
   "pygments_lexer": "ipython3",
   "version": "3.8.6"
  }
 },
 "nbformat": 4,
 "nbformat_minor": 4
}
